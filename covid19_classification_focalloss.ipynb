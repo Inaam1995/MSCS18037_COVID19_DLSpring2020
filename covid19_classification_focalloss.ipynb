{
  "nbformat": 4,
  "nbformat_minor": 0,
  "metadata": {
    "colab": {
      "name": "MSCS18037_05_02.ipynb",
      "provenance": [],
      "collapsed_sections": []
    },
    "kernelspec": {
      "display_name": "Python 3",
      "language": "python",
      "name": "python3"
    },
    "language_info": {
      "codemirror_mode": {
        "name": "ipython",
        "version": 3
      },
      "file_extension": ".py",
      "mimetype": "text/x-python",
      "name": "python",
      "nbconvert_exporter": "python",
      "pygments_lexer": "ipython3",
      "version": "3.7.3"
    },
    "accelerator": "GPU"
  },
  "cells": [
    {
      "cell_type": "markdown",
      "metadata": {
        "colab_type": "text",
        "id": "yKDEjesQeEPK"
      },
      "source": [
        "### Deep Learning by Dr Mohsin Ali at ITU\n",
        "### Assignment 05 - Part 2\n",
        "### Covid-19 Dataset\n",
        "\n",
        "\n"
      ]
    },
    {
      "cell_type": "markdown",
      "metadata": {
        "id": "2rDrvrWEgRWu",
        "colab_type": "text"
      },
      "source": [
        "### Importing Libraries"
      ]
    },
    {
      "cell_type": "code",
      "metadata": {
        "colab_type": "code",
        "id": "Iz5mTvUoeEPL",
        "colab": {}
      },
      "source": [
        "import torch\n",
        "import torch.nn as nn\n",
        "import torch.optim as optim\n",
        "from torch.optim import lr_scheduler\n",
        "from torch.autograd import Variable\n",
        "import numpy as np\n",
        "import torchvision\n",
        "from torchvision import datasets, models, transforms\n",
        "import matplotlib.pyplot as plt\n",
        "import time\n",
        "import os\n",
        "import copy\n",
        "from IPython.display import clear_output # for clearing the output of a cell\n",
        "\n",
        "% matplotlib inline"
      ],
      "execution_count": 0,
      "outputs": []
    },
    {
      "cell_type": "markdown",
      "metadata": {
        "colab_type": "text",
        "id": "rmWAqcDJeEPO"
      },
      "source": [
        "### Loading Dataset"
      ]
    },
    {
      "cell_type": "code",
      "metadata": {
        "id": "NEw3HfwhR-T7",
        "colab_type": "code",
        "outputId": "ac39a061-bca4-452c-b59a-a7a889387636",
        "colab": {
          "base_uri": "https://localhost:8080/",
          "height": 34
        }
      },
      "source": [
        "from google.colab import drive\n",
        "drive.mount('/content/gdrive')"
      ],
      "execution_count": 0,
      "outputs": [
        {
          "output_type": "stream",
          "text": [
            "Drive already mounted at /content/gdrive; to attempt to forcibly remount, call drive.mount(\"/content/gdrive\", force_remount=True).\n"
          ],
          "name": "stdout"
        }
      ]
    },
    {
      "cell_type": "code",
      "metadata": {
        "id": "0qJRBEqeck9E",
        "colab_type": "code",
        "colab": {}
      },
      "source": [
        "!unzip -uq '/content/gdrive/My Drive/Asg5/A_05_Part_02_Dataset.zip'\n",
        "\n",
        "# import zipfile\n",
        "\n",
        "# zip_ref = zipfile.ZipFile(\"/content/gdrive/My Drive/Asg5/A_05_Part_02_Dataset.zip\", 'r')\n",
        "# zip_ref.extractall(\"/\")\n",
        "# zip_ref.close()\n",
        "\n",
        "# !cp \"A_05_Part_02_Dataset/*\" \"/content/gdrive/My Drive/Asg5/\""
      ],
      "execution_count": 0,
      "outputs": []
    },
    {
      "cell_type": "code",
      "metadata": {
        "id": "nbymmrjlzxnj",
        "colab_type": "code",
        "outputId": "17dd2e16-8be9-4623-a855-1a6d9599e719",
        "colab": {
          "base_uri": "https://localhost:8080/",
          "height": 34
        }
      },
      "source": [
        "!ls A_05_Part_02_Dataset/Train/"
      ],
      "execution_count": 0,
      "outputs": [
        {
          "output_type": "stream",
          "text": [
            "covid-19  normal  pneumonia\n"
          ],
          "name": "stdout"
        }
      ]
    },
    {
      "cell_type": "code",
      "metadata": {
        "colab_type": "code",
        "id": "V91vwYG4eEPO",
        "colab": {}
      },
      "source": [
        "data_dir = 'A_05_Part_02_Dataset'"
      ],
      "execution_count": 0,
      "outputs": []
    },
    {
      "cell_type": "code",
      "metadata": {
        "colab_type": "code",
        "id": "T-hfjELPeEPR",
        "outputId": "c62b6f11-5d03-45f5-bc5d-7de4bd8ce443",
        "colab": {
          "base_uri": "https://localhost:8080/",
          "height": 51
        }
      },
      "source": [
        "#Define transforms for the training data and testing data\n",
        "train_transforms = transforms.Compose([transforms.RandomRotation(30),\n",
        "                                       transforms.RandomResizedCrop(224),\n",
        "                                       transforms.RandomHorizontalFlip(),\n",
        "                                       transforms.ToTensor(),\n",
        "                                       transforms.Normalize([0.485, 0.456, 0.406],\n",
        "                                                            [0.229, 0.224, 0.225])])\n",
        "\n",
        "#pass transform here-in\n",
        "train_data = datasets.ImageFolder(data_dir + '/Train', transform=train_transforms)\n",
        "# test_data = datasets.ImageFolder(data_dir + '/Test', transform=test_transforms)\n",
        "val_data = datasets.ImageFolder(data_dir + '/Validation', transform=train_transforms)\n",
        "\n",
        "#data loaders\n",
        "trainloader = torch.utils.data.DataLoader(train_data, batch_size=32, shuffle=True)\n",
        "# testloader = torch.utils.data.DataLoader(test_data, batch_size=64, shuffle=True)\n",
        "valloader = torch.utils.data.DataLoader(val_data, batch_size=32, shuffle=True)\n",
        "\n",
        "print(\"Classes: \")\n",
        "class_names = train_data.classes\n",
        "print(class_names)"
      ],
      "execution_count": 0,
      "outputs": [
        {
          "output_type": "stream",
          "text": [
            "Classes: \n",
            "['covid-19', 'normal', 'pneumonia']\n"
          ],
          "name": "stdout"
        }
      ]
    },
    {
      "cell_type": "code",
      "metadata": {
        "id": "u0Q45PqoogOk",
        "colab_type": "code",
        "outputId": "f66bd0df-ec45-4ab9-c41e-b1e3800873c0",
        "colab": {
          "base_uri": "https://localhost:8080/",
          "height": 51
        }
      },
      "source": [
        "import cv2\n",
        "import os\n",
        "from PIL import Image\n",
        "\n",
        "test_transforms = transforms.Compose([transforms.Resize(256),\n",
        "                                      transforms.CenterCrop(224),\n",
        "                                      transforms.ToTensor(),\n",
        "                                      transforms.Normalize([0.485, 0.456, 0.406],\n",
        "                                                           [0.229, 0.224, 0.225])])\n",
        "\n",
        "test_fnames = []\n",
        "\n",
        "def load_images_from_folder(folder):\n",
        "    images = []\n",
        "    for filename in os.listdir(folder):\n",
        "        test_fnames.append(filename)\n",
        "        img = cv2.imread(os.path.join(folder,filename))\n",
        "        img = Image.fromarray(img)\n",
        "        if img is not None:\n",
        "            images.append(img)\n",
        "    return images\n",
        "\n",
        "test_data = load_images_from_folder('A_05_Part_02_Dataset/Test')\n",
        "print(len(test_data))\n",
        "# testset = CustomDataset(data, transform=test_transforms)\n",
        "test_data = [test_transforms(i) for i in test_data]\n",
        "print(len(test_data))"
      ],
      "execution_count": 0,
      "outputs": [
        {
          "output_type": "stream",
          "text": [
            "629\n",
            "629\n"
          ],
          "name": "stdout"
        }
      ]
    },
    {
      "cell_type": "code",
      "metadata": {
        "id": "s3-xPQg5byex",
        "colab_type": "code",
        "outputId": "bf5b8859-bc32-447d-b31d-a9fbc658ec8b",
        "colab": {
          "base_uri": "https://localhost:8080/",
          "height": 51
        }
      },
      "source": [
        "print(len(trainloader.dataset))\n",
        "# print(len(testloader.dataset))\n",
        "print(len(valloader.dataset))"
      ],
      "execution_count": 0,
      "outputs": [
        {
          "output_type": "stream",
          "text": [
            "6200\n",
            "628\n"
          ],
          "name": "stdout"
        }
      ]
    },
    {
      "cell_type": "code",
      "metadata": {
        "colab_type": "code",
        "id": "92RE4_WFeEPU",
        "colab": {}
      },
      "source": [
        "def imshow(inp, title=None):\n",
        "    inp = inp.numpy().transpose((1, 2, 0))\n",
        "    plt.axis('off')\n",
        "    plt.imshow(inp)\n",
        "    if title is not None:\n",
        "        title = \"Label: \" + str(title)\n",
        "        plt.title(title)\n",
        "    plt.pause(0.001)\n",
        "\n",
        "def show_databatch(inputs, classes):\n",
        "    out = torchvision.utils.make_grid(inputs)\n",
        "    imshow(out, title=[class_names[x] for x in classes])\n",
        "\n",
        "# # Get a batch of training data\n",
        "# inputs, classes = next(iter(trainloader))\n",
        "# show_databatch(inputs, classes)"
      ],
      "execution_count": 0,
      "outputs": []
    },
    {
      "cell_type": "markdown",
      "metadata": {
        "colab_type": "text",
        "id": "b2HLXeDKeEPX"
      },
      "source": [
        "### Load pre-trained VGG-16"
      ]
    },
    {
      "cell_type": "code",
      "metadata": {
        "colab_type": "code",
        "id": "PkWdk-bKeEPY",
        "outputId": "6aa9d7b0-d5d9-45ef-b738-44e7d166ec36",
        "colab": {
          "base_uri": "https://localhost:8080/",
          "height": 1000
        }
      },
      "source": [
        "# Load the pretrained model from pytorch\n",
        "# vgg16 = models.vgg16(pretrained=True)\n",
        "\n",
        "# for resnet\n",
        "vgg16 = models.resnet18(pretrained=True)\n",
        "\n",
        "print(vgg16)\n",
        "# print('Output Layer of VGG16 : ', vgg16.classifier[6].out_features) # 1000 "
      ],
      "execution_count": 0,
      "outputs": [
        {
          "output_type": "stream",
          "text": [
            "ResNet(\n",
            "  (conv1): Conv2d(3, 64, kernel_size=(7, 7), stride=(2, 2), padding=(3, 3), bias=False)\n",
            "  (bn1): BatchNorm2d(64, eps=1e-05, momentum=0.1, affine=True, track_running_stats=True)\n",
            "  (relu): ReLU(inplace=True)\n",
            "  (maxpool): MaxPool2d(kernel_size=3, stride=2, padding=1, dilation=1, ceil_mode=False)\n",
            "  (layer1): Sequential(\n",
            "    (0): BasicBlock(\n",
            "      (conv1): Conv2d(64, 64, kernel_size=(3, 3), stride=(1, 1), padding=(1, 1), bias=False)\n",
            "      (bn1): BatchNorm2d(64, eps=1e-05, momentum=0.1, affine=True, track_running_stats=True)\n",
            "      (relu): ReLU(inplace=True)\n",
            "      (conv2): Conv2d(64, 64, kernel_size=(3, 3), stride=(1, 1), padding=(1, 1), bias=False)\n",
            "      (bn2): BatchNorm2d(64, eps=1e-05, momentum=0.1, affine=True, track_running_stats=True)\n",
            "    )\n",
            "    (1): BasicBlock(\n",
            "      (conv1): Conv2d(64, 64, kernel_size=(3, 3), stride=(1, 1), padding=(1, 1), bias=False)\n",
            "      (bn1): BatchNorm2d(64, eps=1e-05, momentum=0.1, affine=True, track_running_stats=True)\n",
            "      (relu): ReLU(inplace=True)\n",
            "      (conv2): Conv2d(64, 64, kernel_size=(3, 3), stride=(1, 1), padding=(1, 1), bias=False)\n",
            "      (bn2): BatchNorm2d(64, eps=1e-05, momentum=0.1, affine=True, track_running_stats=True)\n",
            "    )\n",
            "  )\n",
            "  (layer2): Sequential(\n",
            "    (0): BasicBlock(\n",
            "      (conv1): Conv2d(64, 128, kernel_size=(3, 3), stride=(2, 2), padding=(1, 1), bias=False)\n",
            "      (bn1): BatchNorm2d(128, eps=1e-05, momentum=0.1, affine=True, track_running_stats=True)\n",
            "      (relu): ReLU(inplace=True)\n",
            "      (conv2): Conv2d(128, 128, kernel_size=(3, 3), stride=(1, 1), padding=(1, 1), bias=False)\n",
            "      (bn2): BatchNorm2d(128, eps=1e-05, momentum=0.1, affine=True, track_running_stats=True)\n",
            "      (downsample): Sequential(\n",
            "        (0): Conv2d(64, 128, kernel_size=(1, 1), stride=(2, 2), bias=False)\n",
            "        (1): BatchNorm2d(128, eps=1e-05, momentum=0.1, affine=True, track_running_stats=True)\n",
            "      )\n",
            "    )\n",
            "    (1): BasicBlock(\n",
            "      (conv1): Conv2d(128, 128, kernel_size=(3, 3), stride=(1, 1), padding=(1, 1), bias=False)\n",
            "      (bn1): BatchNorm2d(128, eps=1e-05, momentum=0.1, affine=True, track_running_stats=True)\n",
            "      (relu): ReLU(inplace=True)\n",
            "      (conv2): Conv2d(128, 128, kernel_size=(3, 3), stride=(1, 1), padding=(1, 1), bias=False)\n",
            "      (bn2): BatchNorm2d(128, eps=1e-05, momentum=0.1, affine=True, track_running_stats=True)\n",
            "    )\n",
            "  )\n",
            "  (layer3): Sequential(\n",
            "    (0): BasicBlock(\n",
            "      (conv1): Conv2d(128, 256, kernel_size=(3, 3), stride=(2, 2), padding=(1, 1), bias=False)\n",
            "      (bn1): BatchNorm2d(256, eps=1e-05, momentum=0.1, affine=True, track_running_stats=True)\n",
            "      (relu): ReLU(inplace=True)\n",
            "      (conv2): Conv2d(256, 256, kernel_size=(3, 3), stride=(1, 1), padding=(1, 1), bias=False)\n",
            "      (bn2): BatchNorm2d(256, eps=1e-05, momentum=0.1, affine=True, track_running_stats=True)\n",
            "      (downsample): Sequential(\n",
            "        (0): Conv2d(128, 256, kernel_size=(1, 1), stride=(2, 2), bias=False)\n",
            "        (1): BatchNorm2d(256, eps=1e-05, momentum=0.1, affine=True, track_running_stats=True)\n",
            "      )\n",
            "    )\n",
            "    (1): BasicBlock(\n",
            "      (conv1): Conv2d(256, 256, kernel_size=(3, 3), stride=(1, 1), padding=(1, 1), bias=False)\n",
            "      (bn1): BatchNorm2d(256, eps=1e-05, momentum=0.1, affine=True, track_running_stats=True)\n",
            "      (relu): ReLU(inplace=True)\n",
            "      (conv2): Conv2d(256, 256, kernel_size=(3, 3), stride=(1, 1), padding=(1, 1), bias=False)\n",
            "      (bn2): BatchNorm2d(256, eps=1e-05, momentum=0.1, affine=True, track_running_stats=True)\n",
            "    )\n",
            "  )\n",
            "  (layer4): Sequential(\n",
            "    (0): BasicBlock(\n",
            "      (conv1): Conv2d(256, 512, kernel_size=(3, 3), stride=(2, 2), padding=(1, 1), bias=False)\n",
            "      (bn1): BatchNorm2d(512, eps=1e-05, momentum=0.1, affine=True, track_running_stats=True)\n",
            "      (relu): ReLU(inplace=True)\n",
            "      (conv2): Conv2d(512, 512, kernel_size=(3, 3), stride=(1, 1), padding=(1, 1), bias=False)\n",
            "      (bn2): BatchNorm2d(512, eps=1e-05, momentum=0.1, affine=True, track_running_stats=True)\n",
            "      (downsample): Sequential(\n",
            "        (0): Conv2d(256, 512, kernel_size=(1, 1), stride=(2, 2), bias=False)\n",
            "        (1): BatchNorm2d(512, eps=1e-05, momentum=0.1, affine=True, track_running_stats=True)\n",
            "      )\n",
            "    )\n",
            "    (1): BasicBlock(\n",
            "      (conv1): Conv2d(512, 512, kernel_size=(3, 3), stride=(1, 1), padding=(1, 1), bias=False)\n",
            "      (bn1): BatchNorm2d(512, eps=1e-05, momentum=0.1, affine=True, track_running_stats=True)\n",
            "      (relu): ReLU(inplace=True)\n",
            "      (conv2): Conv2d(512, 512, kernel_size=(3, 3), stride=(1, 1), padding=(1, 1), bias=False)\n",
            "      (bn2): BatchNorm2d(512, eps=1e-05, momentum=0.1, affine=True, track_running_stats=True)\n",
            "    )\n",
            "  )\n",
            "  (avgpool): AdaptiveAvgPool2d(output_size=(1, 1))\n",
            "  (fc): Linear(in_features=512, out_features=1000, bias=True)\n",
            ")\n"
          ],
          "name": "stdout"
        }
      ]
    },
    {
      "cell_type": "code",
      "metadata": {
        "colab_type": "code",
        "id": "_1hFF7NPeEPa",
        "colab": {}
      },
      "source": [
        "# print(vgg16.classifier[3])"
      ],
      "execution_count": 0,
      "outputs": []
    },
    {
      "cell_type": "markdown",
      "metadata": {
        "colab_type": "text",
        "id": "y291DaS3eEPf"
      },
      "source": [
        "### Freezing the layers (All Convolution Layers)"
      ]
    },
    {
      "cell_type": "code",
      "metadata": {
        "colab_type": "code",
        "id": "x420UpPmeEPg",
        "colab": {}
      },
      "source": [
        "# # Freezing training for all convolution layers\n",
        "# for param in vgg16.features[0:-10].parameters(): # last convolution is not set to not train \n",
        "#     param.requires_grad = False"
      ],
      "execution_count": 0,
      "outputs": []
    },
    {
      "cell_type": "code",
      "metadata": {
        "id": "HJ4IYdBkHQN1",
        "colab_type": "code",
        "colab": {}
      },
      "source": [
        "# i = 0\n",
        "# for param in vgg16.features.parameters(): # last convolution is not set to not train \n",
        "#     i += 1\n",
        "#     print(i,\" \",param.requires_grad)"
      ],
      "execution_count": 0,
      "outputs": []
    },
    {
      "cell_type": "markdown",
      "metadata": {
        "colab_type": "text",
        "id": "CR1W6HC6eEPi"
      },
      "source": [
        "### Making 2 FC Layer to be replaced in the VGG16"
      ]
    },
    {
      "cell_type": "code",
      "metadata": {
        "colab_type": "code",
        "id": "vxcIMqt3eEPd",
        "outputId": "31edaddf-2672-4e1d-c604-b2b1ce342f70",
        "colab": {
          "base_uri": "https://localhost:8080/",
          "height": 34
        }
      },
      "source": [
        "# num_features = vgg16.classifier[0].in_features # getting the input features from the VGG16 in Fc layers\n",
        "# features = list([nn.Linear(num_features, 470)]) # my rollnumber = (37x10) + 100 = 470\n",
        "# features.extend([nn.Linear(470, 3)])#len(class_names))])\n",
        "# features.extend([nn.Sigmoid()])\n",
        "\n",
        "# num_features = vgg16.classifier[6].in_features\n",
        "# features = list(vgg16.classifier.children())[:-1] # Remove last layer\n",
        "# features.extend([nn.Linear(num_features, len(class_names))])\n",
        "# features.extend([nn.Sigmoid()])\n",
        "\n",
        "\n",
        "# for resnet\n",
        "num_features = vgg16.fc.in_features # getting the input features from the VGG16 in Fc layers\n",
        "features = list([nn.Linear(num_features, 470)]) # my rollnumber = (37x10) + 100 = 470\n",
        "features.extend([nn.Linear(470, len(class_names))])\n",
        "\n",
        "print(features)"
      ],
      "execution_count": 0,
      "outputs": [
        {
          "output_type": "stream",
          "text": [
            "[Linear(in_features=512, out_features=470, bias=True), Linear(in_features=470, out_features=3, bias=True)]\n"
          ],
          "name": "stdout"
        }
      ]
    },
    {
      "cell_type": "code",
      "metadata": {
        "colab_type": "code",
        "id": "35vy-d8YeEPi",
        "colab": {}
      },
      "source": [
        "# features.extend([nn.Linear(num_features, len(class_names))])"
      ],
      "execution_count": 0,
      "outputs": []
    },
    {
      "cell_type": "code",
      "metadata": {
        "colab_type": "code",
        "id": "vq6aioDWeEPl",
        "outputId": "1ee9c653-3624-4e1a-fe4f-11fb7a1600d4",
        "colab": {
          "base_uri": "https://localhost:8080/",
          "height": 1000
        }
      },
      "source": [
        "# vgg16.classifier = nn.Sequential(*features)\n",
        "\n",
        "# for resnet\n",
        "vgg16.fc = nn.Sequential(*features)\n",
        "\n",
        "print(vgg16)"
      ],
      "execution_count": 0,
      "outputs": [
        {
          "output_type": "stream",
          "text": [
            "ResNet(\n",
            "  (conv1): Conv2d(3, 64, kernel_size=(7, 7), stride=(2, 2), padding=(3, 3), bias=False)\n",
            "  (bn1): BatchNorm2d(64, eps=1e-05, momentum=0.1, affine=True, track_running_stats=True)\n",
            "  (relu): ReLU(inplace=True)\n",
            "  (maxpool): MaxPool2d(kernel_size=3, stride=2, padding=1, dilation=1, ceil_mode=False)\n",
            "  (layer1): Sequential(\n",
            "    (0): BasicBlock(\n",
            "      (conv1): Conv2d(64, 64, kernel_size=(3, 3), stride=(1, 1), padding=(1, 1), bias=False)\n",
            "      (bn1): BatchNorm2d(64, eps=1e-05, momentum=0.1, affine=True, track_running_stats=True)\n",
            "      (relu): ReLU(inplace=True)\n",
            "      (conv2): Conv2d(64, 64, kernel_size=(3, 3), stride=(1, 1), padding=(1, 1), bias=False)\n",
            "      (bn2): BatchNorm2d(64, eps=1e-05, momentum=0.1, affine=True, track_running_stats=True)\n",
            "    )\n",
            "    (1): BasicBlock(\n",
            "      (conv1): Conv2d(64, 64, kernel_size=(3, 3), stride=(1, 1), padding=(1, 1), bias=False)\n",
            "      (bn1): BatchNorm2d(64, eps=1e-05, momentum=0.1, affine=True, track_running_stats=True)\n",
            "      (relu): ReLU(inplace=True)\n",
            "      (conv2): Conv2d(64, 64, kernel_size=(3, 3), stride=(1, 1), padding=(1, 1), bias=False)\n",
            "      (bn2): BatchNorm2d(64, eps=1e-05, momentum=0.1, affine=True, track_running_stats=True)\n",
            "    )\n",
            "  )\n",
            "  (layer2): Sequential(\n",
            "    (0): BasicBlock(\n",
            "      (conv1): Conv2d(64, 128, kernel_size=(3, 3), stride=(2, 2), padding=(1, 1), bias=False)\n",
            "      (bn1): BatchNorm2d(128, eps=1e-05, momentum=0.1, affine=True, track_running_stats=True)\n",
            "      (relu): ReLU(inplace=True)\n",
            "      (conv2): Conv2d(128, 128, kernel_size=(3, 3), stride=(1, 1), padding=(1, 1), bias=False)\n",
            "      (bn2): BatchNorm2d(128, eps=1e-05, momentum=0.1, affine=True, track_running_stats=True)\n",
            "      (downsample): Sequential(\n",
            "        (0): Conv2d(64, 128, kernel_size=(1, 1), stride=(2, 2), bias=False)\n",
            "        (1): BatchNorm2d(128, eps=1e-05, momentum=0.1, affine=True, track_running_stats=True)\n",
            "      )\n",
            "    )\n",
            "    (1): BasicBlock(\n",
            "      (conv1): Conv2d(128, 128, kernel_size=(3, 3), stride=(1, 1), padding=(1, 1), bias=False)\n",
            "      (bn1): BatchNorm2d(128, eps=1e-05, momentum=0.1, affine=True, track_running_stats=True)\n",
            "      (relu): ReLU(inplace=True)\n",
            "      (conv2): Conv2d(128, 128, kernel_size=(3, 3), stride=(1, 1), padding=(1, 1), bias=False)\n",
            "      (bn2): BatchNorm2d(128, eps=1e-05, momentum=0.1, affine=True, track_running_stats=True)\n",
            "    )\n",
            "  )\n",
            "  (layer3): Sequential(\n",
            "    (0): BasicBlock(\n",
            "      (conv1): Conv2d(128, 256, kernel_size=(3, 3), stride=(2, 2), padding=(1, 1), bias=False)\n",
            "      (bn1): BatchNorm2d(256, eps=1e-05, momentum=0.1, affine=True, track_running_stats=True)\n",
            "      (relu): ReLU(inplace=True)\n",
            "      (conv2): Conv2d(256, 256, kernel_size=(3, 3), stride=(1, 1), padding=(1, 1), bias=False)\n",
            "      (bn2): BatchNorm2d(256, eps=1e-05, momentum=0.1, affine=True, track_running_stats=True)\n",
            "      (downsample): Sequential(\n",
            "        (0): Conv2d(128, 256, kernel_size=(1, 1), stride=(2, 2), bias=False)\n",
            "        (1): BatchNorm2d(256, eps=1e-05, momentum=0.1, affine=True, track_running_stats=True)\n",
            "      )\n",
            "    )\n",
            "    (1): BasicBlock(\n",
            "      (conv1): Conv2d(256, 256, kernel_size=(3, 3), stride=(1, 1), padding=(1, 1), bias=False)\n",
            "      (bn1): BatchNorm2d(256, eps=1e-05, momentum=0.1, affine=True, track_running_stats=True)\n",
            "      (relu): ReLU(inplace=True)\n",
            "      (conv2): Conv2d(256, 256, kernel_size=(3, 3), stride=(1, 1), padding=(1, 1), bias=False)\n",
            "      (bn2): BatchNorm2d(256, eps=1e-05, momentum=0.1, affine=True, track_running_stats=True)\n",
            "    )\n",
            "  )\n",
            "  (layer4): Sequential(\n",
            "    (0): BasicBlock(\n",
            "      (conv1): Conv2d(256, 512, kernel_size=(3, 3), stride=(2, 2), padding=(1, 1), bias=False)\n",
            "      (bn1): BatchNorm2d(512, eps=1e-05, momentum=0.1, affine=True, track_running_stats=True)\n",
            "      (relu): ReLU(inplace=True)\n",
            "      (conv2): Conv2d(512, 512, kernel_size=(3, 3), stride=(1, 1), padding=(1, 1), bias=False)\n",
            "      (bn2): BatchNorm2d(512, eps=1e-05, momentum=0.1, affine=True, track_running_stats=True)\n",
            "      (downsample): Sequential(\n",
            "        (0): Conv2d(256, 512, kernel_size=(1, 1), stride=(2, 2), bias=False)\n",
            "        (1): BatchNorm2d(512, eps=1e-05, momentum=0.1, affine=True, track_running_stats=True)\n",
            "      )\n",
            "    )\n",
            "    (1): BasicBlock(\n",
            "      (conv1): Conv2d(512, 512, kernel_size=(3, 3), stride=(1, 1), padding=(1, 1), bias=False)\n",
            "      (bn1): BatchNorm2d(512, eps=1e-05, momentum=0.1, affine=True, track_running_stats=True)\n",
            "      (relu): ReLU(inplace=True)\n",
            "      (conv2): Conv2d(512, 512, kernel_size=(3, 3), stride=(1, 1), padding=(1, 1), bias=False)\n",
            "      (bn2): BatchNorm2d(512, eps=1e-05, momentum=0.1, affine=True, track_running_stats=True)\n",
            "    )\n",
            "  )\n",
            "  (avgpool): AdaptiveAvgPool2d(output_size=(1, 1))\n",
            "  (fc): Sequential(\n",
            "    (0): Linear(in_features=512, out_features=470, bias=True)\n",
            "    (1): Linear(in_features=470, out_features=3, bias=True)\n",
            "  )\n",
            ")\n"
          ],
          "name": "stdout"
        }
      ]
    },
    {
      "cell_type": "markdown",
      "metadata": {
        "id": "1FYp7EXGAQOI",
        "colab_type": "text"
      },
      "source": [
        "### Code for Focal Loss"
      ]
    },
    {
      "cell_type": "code",
      "metadata": {
        "id": "MGSs0N-rAOSY",
        "colab_type": "code",
        "colab": {}
      },
      "source": [
        "# class FocalLoss(nn.Module):\n",
        "#     def __init__(self,gamma=2): # choosen gamma as 2\n",
        "#         super(FocalLoss, self).__init__()\n",
        "#         self.gamma = gamma\n",
        "        \n",
        "#     def forward(self, inputs, targets):\n",
        "#         loss_bce = nn.BCEWithLogitsLoss(inputs, targets)\n",
        "#         p_t = torch.exp(-loss_bce)\n",
        "#         loss_focal = torch.mul(torch.pow((1-p_t), self.gamma), loss_bce)\n",
        "#         return torch.mean(loss_focal)\n",
        "\n",
        "def focalLoss(outputs, targets):\n",
        "    gamma = 5\n",
        "    loss_bce = nn.BCEWithLogitsLoss()(outputs, targets)\n",
        "    p_t = torch.exp(-loss_bce)\n",
        "    loss_focal = torch.mul(torch.pow((1-p_t), gamma), loss_bce)\n",
        "    # return torch.mean(loss_focal)\n",
        "    return loss_focal"
      ],
      "execution_count": 0,
      "outputs": []
    },
    {
      "cell_type": "markdown",
      "metadata": {
        "colab_type": "text",
        "id": "S1j4SQv8eEPp"
      },
      "source": [
        "### Loss function and optimizer"
      ]
    },
    {
      "cell_type": "code",
      "metadata": {
        "colab_type": "code",
        "id": "WI5gCDnmeEPq",
        "colab": {}
      },
      "source": [
        "Epochs = 10\n",
        "criterion = nn.BCEWithLogitsLoss()#CrossEntropyLoss()\n",
        "# criterion = focalLoss()#CrossEntropyLoss()\n",
        "\n",
        "optimizer = optim.SGD(vgg16.parameters(), lr=0.001, momentum=0.9)"
      ],
      "execution_count": 0,
      "outputs": []
    },
    {
      "cell_type": "markdown",
      "metadata": {
        "id": "wBz4UREkm9ZN",
        "colab_type": "text"
      },
      "source": [
        "### Function for finding accuracy"
      ]
    },
    {
      "cell_type": "code",
      "metadata": {
        "id": "zYQz87sXjII4",
        "colab_type": "code",
        "colab": {}
      },
      "source": [
        "from sklearn.metrics import confusion_matrix # for plotting confusuion matrix\n",
        "from sklearn.metrics import f1_score # for finding f1 score"
      ],
      "execution_count": 0,
      "outputs": []
    },
    {
      "cell_type": "code",
      "metadata": {
        "id": "9UzhyO8SnB8d",
        "colab_type": "code",
        "colab": {}
      },
      "source": [
        "def get_accuracy(my_loader):\n",
        "  correct = 0\n",
        "  total = 0\n",
        "  all_preds = list() # for saving all predictions\n",
        "  orig_labels = list()\n",
        "  with torch.no_grad():\n",
        "      for data in my_loader:\n",
        "          images, labels = data\n",
        "          labels = getOnehot(labels)\n",
        "          images, labels = images.to(device), labels.to(device)\n",
        "          outputs = vgg16(images)\n",
        "          predicted = torch.sigmoid(outputs.data)\n",
        "          # _, predicted = torch.max(outputs.data, 1)\n",
        "          predicted = getMyPreds(predicted)\n",
        "\n",
        "          all_preds.extend(predicted) # extending for predicted labels\n",
        "          orig_labels.extend(labels) # extending for predicted labels\n",
        "\n",
        "          total += labels.size(0)\n",
        "          correct += (torch.all(torch.eq(predicted, labels),1)).sum().item()\n",
        "  return 100 * (correct/total), orig_labels, all_preds"
      ],
      "execution_count": 0,
      "outputs": []
    },
    {
      "cell_type": "code",
      "metadata": {
        "id": "ijkmk63A_vYH",
        "colab_type": "code",
        "colab": {}
      },
      "source": [
        "def getOnehot(labels):\n",
        "  onehot = []\n",
        "  for label in labels:\n",
        "    if label == 0 : # for covid\n",
        "      onehot.append([1, 1, 0])\n",
        "    elif label == 2 : # for pneumonia\n",
        "      onehot.append([0, 1, 0])\n",
        "    elif label == 1 : # for normal\n",
        "      onehot.append([0, 0, 1])\n",
        "  return torch.Tensor(onehot)"
      ],
      "execution_count": 0,
      "outputs": []
    },
    {
      "cell_type": "code",
      "metadata": {
        "id": "kr1sWviUFy11",
        "colab_type": "code",
        "colab": {}
      },
      "source": [
        "def getMyPreds(la):\n",
        "  labels = la\n",
        "  onehot = []\n",
        "  for label in labels:\n",
        "    sub =[]\n",
        "    for lab in label:\n",
        "      if lab>0.5:\n",
        "        sub.append(1)\n",
        "      else:\n",
        "        sub.append(0)\n",
        "    onehot.append(sub)\n",
        "  return torch.Tensor(onehot).to(device)"
      ],
      "execution_count": 0,
      "outputs": []
    },
    {
      "cell_type": "markdown",
      "metadata": {
        "colab_type": "text",
        "id": "nImtxJIBeEPs"
      },
      "source": [
        "### Training"
      ]
    },
    {
      "cell_type": "code",
      "metadata": {
        "colab_type": "code",
        "id": "riF5CjEZeEPs",
        "outputId": "abb9935f-ea04-493f-f549-55d848a7b34e",
        "colab": {
          "base_uri": "https://localhost:8080/",
          "height": 714
        }
      },
      "source": [
        "from tqdm import tqdm\n",
        "\n",
        "#if you have gpu then you need to convert the network and data to cuda\n",
        "#the easiest way is to first check for device and then convert network and data to device\n",
        "device = torch.device(\"cuda:0\" if torch.cuda.is_available() else \"cpu\")\n",
        "vgg16.to(device)\n",
        "\n",
        "train_loss = []\n",
        "train_acc = []\n",
        "\n",
        "val_loss = []\n",
        "val_acc = []\n",
        "\n",
        "\n",
        "for epoch in range(Epochs):\n",
        "  for part in [\"training\", \"validation\"]: # as every epoch has training and validation\n",
        "\n",
        "    curr_loader =[] # current loading for storing the training and validation\n",
        "    if part == \"training\":\n",
        "      vgg16.train(True) # training is true for training data\n",
        "      curr_loader = trainloader\n",
        "      \n",
        "    else:\n",
        "      vgg16.train(False) # training is false for validation data\n",
        "      curr_loader = valloader\n",
        "\n",
        "    running_loss = 0.0 # for running loss\n",
        "    running_acc = 0 # for running accuracy\n",
        "\n",
        "    pbar = tqdm(enumerate(curr_loader)) # loading training data\n",
        "    for i, data in pbar:\n",
        "        # getting input\n",
        "        inputs, labels = data\n",
        "        # print(labels)\n",
        "        labels = getOnehot(labels)\n",
        "        # print(labels)\n",
        "        inputs, labels = inputs.to(device), labels.to(device)\n",
        "\n",
        "        optimizer.zero_grad()# zeroing the gradient\n",
        "\n",
        "        outputs = vgg16(inputs)  \n",
        "        loss = criterion(outputs, labels)\n",
        "        # loss = focalLoss(outputs, labels)\n",
        "\n",
        "        if part == \"training\": # no learning from validation data\n",
        "          loss.backward() \n",
        "          optimizer.step()\n",
        "        # print(outputs.data)\n",
        "        # _, preds = torch.max(outputs.data, 1)\n",
        "        preds = torch.sigmoid(outputs.data)\n",
        "\n",
        "        # print statistics\n",
        "        running_loss += loss.item()\n",
        "        # print(preds)\n",
        "        # print(labels)\n",
        "        preds = getMyPreds(preds)\n",
        "        # running_acc += torch.sum(preds == labels)\n",
        "        running_acc += (torch.all(torch.eq(preds, labels),1)).sum().item()\n",
        "        \n",
        "        pbar.set_description(\n",
        "            'Train Epoch: {} [{}/{} ({:.0f}%)]\\tLoss: {:.6f}'.format(\n",
        "                epoch, i * len(inputs), len(curr_loader.dataset),\n",
        "                100. * i / len(curr_loader),\n",
        "                loss.data))\n",
        "        \n",
        "    # clear_output()\n",
        "    if part == \"training\": # storing for training\n",
        "      train_loss.append(running_loss)\n",
        "      train_acc.append(running_acc)\n",
        "    else: # storing for validation\n",
        "      val_loss.append(running_loss)\n",
        "      val_acc.append(running_acc)\n",
        "    # print(running_loss)\n",
        "    print(running_acc)\n",
        "\n",
        "    torch.save(vgg16.state_dict(), 'vgg16_ft.pth')\n",
        "\n",
        "print('Finished Training')"
      ],
      "execution_count": 0,
      "outputs": [
        {
          "output_type": "stream",
          "text": [
            "Train Epoch: 0 [4632/6200 (99%)]\tLoss: 0.281329: : 194it [02:19,  1.39it/s]\n",
            "0it [00:00, ?it/s]"
          ],
          "name": "stderr"
        },
        {
          "output_type": "stream",
          "text": [
            "4561\n"
          ],
          "name": "stdout"
        },
        {
          "output_type": "stream",
          "text": [
            "Train Epoch: 0 [380/628 (95%)]\tLoss: 0.304199: : 20it [00:13,  1.50it/s]\n",
            "0it [00:00, ?it/s]"
          ],
          "name": "stderr"
        },
        {
          "output_type": "stream",
          "text": [
            "527\n"
          ],
          "name": "stdout"
        },
        {
          "output_type": "stream",
          "text": [
            "Train Epoch: 1 [4632/6200 (99%)]\tLoss: 0.146699: : 194it [02:20,  1.38it/s]\n",
            "0it [00:00, ?it/s]"
          ],
          "name": "stderr"
        },
        {
          "output_type": "stream",
          "text": [
            "5222\n"
          ],
          "name": "stdout"
        },
        {
          "output_type": "stream",
          "text": [
            "Train Epoch: 1 [380/628 (95%)]\tLoss: 0.309034: : 20it [00:13,  1.50it/s]\n",
            "0it [00:00, ?it/s]"
          ],
          "name": "stderr"
        },
        {
          "output_type": "stream",
          "text": [
            "537\n"
          ],
          "name": "stdout"
        },
        {
          "output_type": "stream",
          "text": [
            "Train Epoch: 2 [4632/6200 (99%)]\tLoss: 0.312330: : 194it [02:19,  1.39it/s]\n",
            "0it [00:00, ?it/s]"
          ],
          "name": "stderr"
        },
        {
          "output_type": "stream",
          "text": [
            "5317\n"
          ],
          "name": "stdout"
        },
        {
          "output_type": "stream",
          "text": [
            "Train Epoch: 2 [380/628 (95%)]\tLoss: 0.144807: : 20it [00:13,  1.50it/s]\n",
            "0it [00:00, ?it/s]"
          ],
          "name": "stderr"
        },
        {
          "output_type": "stream",
          "text": [
            "545\n"
          ],
          "name": "stdout"
        },
        {
          "output_type": "stream",
          "text": [
            "Train Epoch: 3 [4632/6200 (99%)]\tLoss: 0.171743: : 194it [02:19,  1.39it/s]\n",
            "0it [00:00, ?it/s]"
          ],
          "name": "stderr"
        },
        {
          "output_type": "stream",
          "text": [
            "5375\n"
          ],
          "name": "stdout"
        },
        {
          "output_type": "stream",
          "text": [
            "Train Epoch: 3 [380/628 (95%)]\tLoss: 0.168019: : 20it [00:13,  1.52it/s]\n",
            "0it [00:00, ?it/s]"
          ],
          "name": "stderr"
        },
        {
          "output_type": "stream",
          "text": [
            "553\n"
          ],
          "name": "stdout"
        },
        {
          "output_type": "stream",
          "text": [
            "Train Epoch: 4 [4632/6200 (99%)]\tLoss: 0.158548: : 194it [02:19,  1.39it/s]\n",
            "0it [00:00, ?it/s]"
          ],
          "name": "stderr"
        },
        {
          "output_type": "stream",
          "text": [
            "5386\n"
          ],
          "name": "stdout"
        },
        {
          "output_type": "stream",
          "text": [
            "Train Epoch: 4 [380/628 (95%)]\tLoss: 0.128871: : 20it [00:13,  1.49it/s]\n",
            "0it [00:00, ?it/s]"
          ],
          "name": "stderr"
        },
        {
          "output_type": "stream",
          "text": [
            "547\n"
          ],
          "name": "stdout"
        },
        {
          "output_type": "stream",
          "text": [
            "Train Epoch: 5 [4632/6200 (99%)]\tLoss: 0.082565: : 194it [02:19,  1.39it/s]\n",
            "0it [00:00, ?it/s]"
          ],
          "name": "stderr"
        },
        {
          "output_type": "stream",
          "text": [
            "5447\n"
          ],
          "name": "stdout"
        },
        {
          "output_type": "stream",
          "text": [
            "Train Epoch: 5 [380/628 (95%)]\tLoss: 0.129551: : 20it [00:13,  1.50it/s]\n",
            "0it [00:00, ?it/s]"
          ],
          "name": "stderr"
        },
        {
          "output_type": "stream",
          "text": [
            "547\n"
          ],
          "name": "stdout"
        },
        {
          "output_type": "stream",
          "text": [
            "Train Epoch: 6 [4632/6200 (99%)]\tLoss: 0.263729: : 194it [02:18,  1.40it/s]\n",
            "0it [00:00, ?it/s]"
          ],
          "name": "stderr"
        },
        {
          "output_type": "stream",
          "text": [
            "5454\n"
          ],
          "name": "stdout"
        },
        {
          "output_type": "stream",
          "text": [
            "Train Epoch: 6 [380/628 (95%)]\tLoss: 0.180319: : 20it [00:13,  1.50it/s]\n",
            "0it [00:00, ?it/s]"
          ],
          "name": "stderr"
        },
        {
          "output_type": "stream",
          "text": [
            "564\n"
          ],
          "name": "stdout"
        },
        {
          "output_type": "stream",
          "text": [
            "Train Epoch: 7 [4632/6200 (99%)]\tLoss: 0.213052: : 194it [02:18,  1.40it/s]\n",
            "0it [00:00, ?it/s]"
          ],
          "name": "stderr"
        },
        {
          "output_type": "stream",
          "text": [
            "5495\n"
          ],
          "name": "stdout"
        },
        {
          "output_type": "stream",
          "text": [
            "Train Epoch: 7 [380/628 (95%)]\tLoss: 0.309354: : 20it [00:13,  1.47it/s]\n",
            "0it [00:00, ?it/s]"
          ],
          "name": "stderr"
        },
        {
          "output_type": "stream",
          "text": [
            "564\n"
          ],
          "name": "stdout"
        },
        {
          "output_type": "stream",
          "text": [
            "Train Epoch: 8 [4632/6200 (99%)]\tLoss: 0.331609: : 194it [02:20,  1.38it/s]\n",
            "0it [00:00, ?it/s]"
          ],
          "name": "stderr"
        },
        {
          "output_type": "stream",
          "text": [
            "5540\n"
          ],
          "name": "stdout"
        },
        {
          "output_type": "stream",
          "text": [
            "Train Epoch: 8 [380/628 (95%)]\tLoss: 0.150340: : 20it [00:13,  1.49it/s]\n",
            "0it [00:00, ?it/s]"
          ],
          "name": "stderr"
        },
        {
          "output_type": "stream",
          "text": [
            "567\n"
          ],
          "name": "stdout"
        },
        {
          "output_type": "stream",
          "text": [
            "Train Epoch: 9 [4632/6200 (99%)]\tLoss: 0.163087: : 194it [02:19,  1.39it/s]\n",
            "0it [00:00, ?it/s]"
          ],
          "name": "stderr"
        },
        {
          "output_type": "stream",
          "text": [
            "5523\n"
          ],
          "name": "stdout"
        },
        {
          "output_type": "stream",
          "text": [
            "Train Epoch: 9 [380/628 (95%)]\tLoss: 0.061696: : 20it [00:13,  1.51it/s]"
          ],
          "name": "stderr"
        },
        {
          "output_type": "stream",
          "text": [
            "561\n",
            "Finished Training\n"
          ],
          "name": "stdout"
        },
        {
          "output_type": "stream",
          "text": [
            "\n"
          ],
          "name": "stderr"
        }
      ]
    },
    {
      "cell_type": "code",
      "metadata": {
        "id": "6lL8N9WUK6N3",
        "colab_type": "code",
        "colab": {}
      },
      "source": [
        "# a = [1,2,1]\n",
        "# a=getOnehot(a)\n",
        "# b = [1,2,0]\n",
        "# b=getOnehot(b)\n",
        "# print(a)\n",
        "# print(b)\n",
        "# print(torch.all(torch.eq(a, b),1))\n",
        "# print(torch.eq(a, b))"
      ],
      "execution_count": 0,
      "outputs": []
    },
    {
      "cell_type": "markdown",
      "metadata": {
        "id": "FR9UUhNHw7cA",
        "colab_type": "text"
      },
      "source": [
        "### Plotting the Curves"
      ]
    },
    {
      "cell_type": "code",
      "metadata": {
        "id": "X66HtB-4w_Pl",
        "colab_type": "code",
        "outputId": "b4cde6a3-cc00-4946-9cde-d664ea1aa9d7",
        "colab": {
          "base_uri": "https://localhost:8080/",
          "height": 495
        }
      },
      "source": [
        "plt.subplot(121)\n",
        "plt.tight_layout(pad=3.00)\n",
        "plt.xlabel('Epochs')\n",
        "plt.ylabel('Train Accuracy')\n",
        "plt.plot(range(Epochs),np.asarray(train_acc)/len(trainloader.dataset))\n",
        "plt.subplot(122)\n",
        "plt.tight_layout(pad=3.00)\n",
        "plt.xlabel('Epochs')\n",
        "plt.ylabel('Train Loss')\n",
        "plt.plot(range(Epochs),train_loss)\n",
        "plt.show()\n",
        "\n",
        "plt.subplot(121)\n",
        "plt.tight_layout(pad=3.00)\n",
        "plt.xlabel('Epochs')\n",
        "plt.ylabel('Validation Accuracy')\n",
        "plt.plot(range(Epochs),np.asarray(val_acc)/len(valloader.dataset))\n",
        "plt.subplot(122)\n",
        "plt.tight_layout(pad=3.00)\n",
        "plt.xlabel('Epochs')\n",
        "plt.ylabel('Validation Loss')\n",
        "plt.plot(range(Epochs),val_loss)\n",
        "plt.show()"
      ],
      "execution_count": 0,
      "outputs": [
        {
          "output_type": "display_data",
          "data": {
            "image/png": "[encoded data removed]",
            "text/plain": [
              "<Figure size 432x288 with 2 Axes>"
            ]
          },
          "metadata": {
            "tags": [],
            "needs_background": "light"
          }
        },
        {
          "output_type": "display_data",
          "data": {
            "image/png": "[encoded data removed]",
            "text/plain": [
              "<Figure size 432x288 with 2 Axes>"
            ]
          },
          "metadata": {
            "tags": [],
            "needs_background": "light"
          }
        }
      ]
    },
    {
      "cell_type": "markdown",
      "metadata": {
        "colab_type": "text",
        "id": "qOZ768iMeEPv"
      },
      "source": [
        "### Testing on Test Data and Plotting Confusion Matrix"
      ]
    },
    {
      "cell_type": "code",
      "metadata": {
        "id": "TZZ1NJZRuhEH",
        "colab_type": "code",
        "colab": {}
      },
      "source": [
        "# acc, my_orig, my_preds = get_accuracy(testloader)\n",
        "# print(\"Accuracy on testing dataset is \", acc)\n",
        "\n",
        "# my_orig = [int(i.cpu().numpy()) for i in my_orig]\n",
        "# my_preds = [int(i.cpu().numpy()) for i in my_preds]\n",
        "\n",
        "# print(\"F1 score for testing dataset is \", f1_score(my_orig, my_preds, average='binary'))\n",
        "\n",
        "# cf_matrix = confusion_matrix(my_orig, my_preds)\n",
        "# plt.imshow(cf_matrix)\n",
        "# plt.title(\"Confusion Matrix For Testing Data\")\n",
        "# plt.colorbar()\n",
        "# plt.show()"
      ],
      "execution_count": 0,
      "outputs": []
    },
    {
      "cell_type": "markdown",
      "metadata": {
        "id": "kQgTNKy7jLPH",
        "colab_type": "text"
      },
      "source": [
        "### Plotting Confusion Matrices for Training and Validation Data"
      ]
    },
    {
      "cell_type": "code",
      "metadata": {
        "id": "kMiO7MUqBKv7",
        "colab_type": "code",
        "colab": {}
      },
      "source": [
        "from sklearn.metrics import multilabel_confusion_matrix"
      ],
      "execution_count": 0,
      "outputs": []
    },
    {
      "cell_type": "code",
      "metadata": {
        "colab_type": "code",
        "id": "9pIxG7PleEP4",
        "outputId": "0cb4e4e3-0668-4cba-9d05-2f3bb00e0237",
        "colab": {
          "base_uri": "https://localhost:8080/",
          "height": 435
        }
      },
      "source": [
        "acc, my_orig, my_preds = get_accuracy(trainloader)\n",
        "print(\"Accuracy on training dataset is \", acc)\n",
        "\n",
        "my_orig = [i.cpu().numpy() for i in my_orig]\n",
        "my_preds = [i.cpu().numpy() for i in my_preds]\n",
        "\n",
        "cf_matrix = multilabel_confusion_matrix(my_orig, my_preds)\n",
        "print(\"Confusion Matrix For Training Data\")\n",
        "print(cf_matrix)\n",
        "\n",
        "plt.subplots_adjust(hspace=0.3,wspace = 0.4)\n",
        "plt.subplot(311)\n",
        "plt.imshow(cf_matrix[0])\n",
        "plt.colorbar()\n",
        "\n",
        "plt.subplot(312)\n",
        "plt.imshow(cf_matrix[1])\n",
        "plt.colorbar()\n",
        "\n",
        "plt.subplot(313)\n",
        "plt.imshow(cf_matrix[2])\n",
        "plt.colorbar()\n",
        "plt.show()"
      ],
      "execution_count": 0,
      "outputs": [
        {
          "output_type": "stream",
          "text": [
            "Accuracy on training dataset is  90.40322580645162\n",
            "Confusion Matrix For Training Data\n",
            "[[[5987   13]\n",
            "  [ 124   76]]\n",
            "\n",
            " [[3849  151]\n",
            "  [ 314 1886]]\n",
            "\n",
            " [[1883  317]\n",
            "  [ 148 3852]]]\n"
          ],
          "name": "stdout"
        },
        {
          "output_type": "display_data",
          "data": {
            "image/png": "[encoded data removed]",
            "text/plain": [
              "<Figure size 432x288 with 6 Axes>"
            ]
          },
          "metadata": {
            "tags": [],
            "needs_background": "light"
          }
        }
      ]
    },
    {
      "cell_type": "code",
      "metadata": {
        "id": "vPPPDUm307tz",
        "colab_type": "code",
        "outputId": "891282a1-fa0a-405e-8563-f86d5868fce0",
        "colab": {
          "base_uri": "https://localhost:8080/",
          "height": 435
        }
      },
      "source": [
        "acc, my_orig, my_preds = get_accuracy(valloader)\n",
        "print(\"Accuracy on validation dataset is \", acc)\n",
        "\n",
        "my_orig = [i.cpu().numpy() for i in my_orig]\n",
        "my_preds = [i.cpu().numpy() for i in my_preds]\n",
        "\n",
        "# print(\"F1 score for validation dataset is \", f1_score(my_orig, my_preds,'binary'))\n",
        "\n",
        "cf_matrix = multilabel_confusion_matrix(my_orig, my_preds)\n",
        "print(\"Confusion Matrix For Validation Data\")\n",
        "print(cf_matrix)\n",
        "\n",
        "plt.subplots_adjust(hspace=0.3,wspace = 0.4)\n",
        "plt.subplot(311)\n",
        "plt.imshow(cf_matrix[0])\n",
        "plt.colorbar()\n",
        "\n",
        "plt.subplot(312)\n",
        "plt.imshow(cf_matrix[1])\n",
        "plt.colorbar()\n",
        "\n",
        "plt.subplot(313)\n",
        "plt.imshow(cf_matrix[2])\n",
        "plt.colorbar()\n",
        "plt.show()"
      ],
      "execution_count": 0,
      "outputs": [
        {
          "output_type": "stream",
          "text": [
            "Accuracy on validation dataset is  91.0828025477707\n",
            "Confusion Matrix For Validation Data\n",
            "[[[596   4]\n",
            "  [ 14  14]]\n",
            "\n",
            " [[390  10]\n",
            "  [ 32 196]]\n",
            "\n",
            " [[196  32]\n",
            "  [ 13 387]]]\n"
          ],
          "name": "stdout"
        },
        {
          "output_type": "display_data",
          "data": {
            "image/png": "[encoded data removed]",
            "text/plain": [
              "<Figure size 432x288 with 6 Axes>"
            ]
          },
          "metadata": {
            "tags": [],
            "needs_background": "light"
          }
        }
      ]
    },
    {
      "cell_type": "code",
      "metadata": {
        "id": "VCPKu4vF3NLR",
        "colab_type": "code",
        "colab": {}
      },
      "source": [
        "fname = \"/content/gdrive/My Drive/saved_models_asg5/resnet18_entire_without_focal_loss\"\n",
        "fname2 = fname + \".pth\"\n",
        "torch.save(vgg16.state_dict(), fname2)"
      ],
      "execution_count": 0,
      "outputs": []
    },
    {
      "cell_type": "markdown",
      "metadata": {
        "id": "LvFNaFU6hedw",
        "colab_type": "text"
      },
      "source": [
        "## Predicting Labels for Unlabelled data in Python"
      ]
    },
    {
      "cell_type": "code",
      "metadata": {
        "id": "fYGhaugHhdgy",
        "colab_type": "code",
        "colab": {}
      },
      "source": [
        "def pred_all(my_loader):\n",
        "  all_preds = list() # for saving all predictions\n",
        "  with torch.no_grad():\n",
        "      for data in my_loader:\n",
        "          images = data\n",
        "          images = images.to(device)\n",
        "          outputs = vgg16(images)\n",
        "          predicted = torch.sigmoid(outputs.data)\n",
        "          # _, predicted = torch.max(outputs.data, 1)\n",
        "          predicted = getMyPreds(predicted)\n",
        "          all_preds.extend(predicted) # extending for predicted labels\n",
        "\n",
        "  return all_preds"
      ],
      "execution_count": 0,
      "outputs": []
    },
    {
      "cell_type": "code",
      "metadata": {
        "id": "I2kfuikGhd7J",
        "colab_type": "code",
        "colab": {}
      },
      "source": [
        "# predicting labels for unknown test labels\n",
        "testloader = torch.utils.data.DataLoader(test_data, batch_size=64, shuffle=False)\n",
        "my_preds = pred_all(testloader)\n",
        "# my_preds = list(my_preds.cpu().numpy())\n",
        "\n",
        "# making pandas dataframe\n",
        "import pandas as pd  \n",
        "   \n",
        "imgName = test_fnames # file names saved above\n",
        "covid = [i[0].cpu().numpy() for i in my_preds] # for covid\n",
        "pneumonia = [i[1].cpu().numpy() for i in my_preds] # for pneumonia\n",
        "normal = [i[2].cpu().numpy() for i in my_preds] # for normal\n",
        "   \n",
        "my_dict = {'Image Name': imgName, 'covid': covid, 'pneumonia': pneumonia, 'normal': normal}  \n",
        "\n",
        "df = pd.DataFrame(my_dict)\n",
        "\n",
        "fname2 = fname + \".csv\"\n",
        "df.to_csv(fname2) "
      ],
      "execution_count": 0,
      "outputs": []
    },
    {
      "cell_type": "markdown",
      "metadata": {
        "id": "llVobV4hYPJi",
        "colab_type": "text"
      },
      "source": [
        "### Finding Best and Worst Classified Images"
      ]
    },
    {
      "cell_type": "code",
      "metadata": {
        "id": "qtb4NOPCD77s",
        "colab_type": "code",
        "colab": {}
      },
      "source": [
        "# # best is the one which will have the maximum probability of 1 in the correct place\n",
        "# # worst is the one which will have the minimum probability of 1 in the wrong place\n",
        "# def find_best(my_loader, l):\n",
        "#   best = 0\n",
        "#   best_label = 0\n",
        "#   best_prob = 0\n",
        "#   with torch.no_grad():\n",
        "#       for data in my_loader:\n",
        "#           images, labels = data\n",
        "#           images, labels = images.to(device), labels.to(device)\n",
        "#           outputs = vgg16(images)\n",
        "#           _, predicted = torch.max(outputs.data, 1)\n",
        "          \n",
        "#           for i in range(0,len(predicted)):\n",
        "#             if int(labels[i].cpu().numpy()) == l:\n",
        "#               if predicted[i] == labels[i]: # if same\n",
        "#                   if (outputs[i][labels[i]]>best_prob):\n",
        "#                     best_prob = outputs[i][labels[i]]\n",
        "#                     best = images[i]\n",
        "#                     best_label = labels[i]\n",
        "\n",
        "#   return best, best_label, best_prob\n",
        "\n",
        "# print(\"Best Image for class 0\")\n",
        "# A = find_best(testloader, 0)\n",
        "# # print(\"The correct label of this image had probability of \",A[2].cpu().numpy())\n",
        "# imshow(A[0].cpu(),int(A[1].cpu()))\n",
        "\n",
        "# print(\"Best Image for class 1\")\n",
        "# A = find_best(testloader, 1)\n",
        "# # print(\"The correct label of this image had probability of \",A[2].cpu().numpy())\n",
        "# imshow(A[0].cpu(),int(A[1].cpu()))"
      ],
      "execution_count": 0,
      "outputs": []
    },
    {
      "cell_type": "code",
      "metadata": {
        "id": "xTI_gi99ov1y",
        "colab_type": "code",
        "colab": {}
      },
      "source": [
        "# def find_worst(my_loader,l):\n",
        "#   worst = 0\n",
        "#   worst_label = 0\n",
        "#   worst_prob = 1\n",
        "#   with torch.no_grad():\n",
        "#       for data in my_loader:\n",
        "#           images, labels = data\n",
        "#           images, labels = images.to(device), labels.to(device)\n",
        "#           outputs = vgg16(images)\n",
        "#           _, predicted = torch.max(outputs.data, 1)\n",
        "          \n",
        "#           for i in range(0,len(predicted)):\n",
        "#             if int(labels[i].cpu().numpy()) == l:\n",
        "#               if predicted[i] != labels[i]: # if same\n",
        "#                   if (outputs[i][labels[i]]<worst_prob):\n",
        "#                     worst_prob = outputs[i][labels[i]]\n",
        "#                     worst = images[i]\n",
        "#                     worst_label = labels[i]\n",
        "#   return worst, worst_label, worst_prob\n",
        "\n",
        "# print(\"Worst Image for Class 0\")\n",
        "# A = find_worst(testloader,0)\n",
        "# # print(\"The correct label of this image had probability of \",A[2])\n",
        "# imshow(A[0].cpu(),int(A[1].cpu()))\n",
        "\n",
        "# print(\"Worst Image for Class 1\")\n",
        "# A = find_worst(testloader,1)\n",
        "# # print(\"The correct label of this image had probability of \",A[2])\n",
        "# imshow(A[0].cpu(),int(A[1].cpu()))"
      ],
      "execution_count": 0,
      "outputs": []
    },
    {
      "cell_type": "code",
      "metadata": {
        "id": "tE51o2EXFsee",
        "colab_type": "code",
        "colab": {}
      },
      "source": [
        ""
      ],
      "execution_count": 0,
      "outputs": []
    }
  ]
}